{
 "cells": [
  {
   "cell_type": "code",
   "execution_count": null,
   "metadata": {
    "collapsed": true
   },
   "outputs": [],
   "source": [
    "#  Posts.xml => posts table\n",
    "\n",
    "<row Id=\"16\" \n",
    "PostTypeId=\"1\" \n",
    "AcceptedAnswerId=\"46\" \n",
    "CreationDate=\"2014-05-14T01:57:56.880\" \n",
    "Score=\"15\" \n",
    "ViewCount=\"247\" \n",
    "Body=\"&lt;p&gt;I use &lt;a href=&quot;http://www.csie.ntu.edu.tw/~cjlin/libsvm/&quot;&gt;Libsvm&lt;/a&gt; to train data and predict classification on &lt;strong&gt;semantic analysis&lt;/strong&gt; problem. But it has a &lt;strong&gt;performance&lt;/strong&gt; issue on large-scale data, because semantic analysis concerns &lt;strong&gt;&lt;em&gt;n-dimension&lt;/em&gt;&lt;/strong&gt; problem.&lt;/p&gt;&#xA;&#xA;&lt;p&gt;Last year, &lt;a href=&quot;http://www.csie.ntu.edu.tw/~cjlin/liblinear/&quot;&gt;Liblinear&lt;/a&gt; was release, and it can solve performance bottleneck.&#xA;But it cost too much &lt;strong&gt;memory&lt;/strong&gt;. Is &lt;strong&gt;MapReduce&lt;/strong&gt; the only way to solve semantic analysis problem on big data? Or are there any other methods that can improve memory bottleneck on &lt;strong&gt;Liblinear&lt;/strong&gt;?&lt;/p&gt;&#xA;\" \n",
    "OwnerUserId=\"63\" \n",
    "LastEditorUserId=\"84\" \n",
    "LastEditDate=\"2014-05-17T16:24:14.523\" \n",
    "LastActivityDate=\"2014-05-17T16:24:14.523\" \n",
    "Title=\"Use liblinear on big data for semantic analysis\" \n",
    "Tags=\"&lt;machine-learning&gt;&lt;bigdata&gt;&lt;libsvm&gt;\" \n",
    "AnswerCount=\"2\" CommentCount=\"0\" />"
   ]
  },
  {
   "cell_type": "code",
   "execution_count": null,
   "metadata": {
    "collapsed": true
   },
   "outputs": [],
   "source": [
    "CREATE TABLE posts (Id INT NOT NULL PRIMARY KEY, \n",
    "                    PostTypeId INT, \n",
    "                    AcceptedAnswerId INT, \n",
    "                    CreationDate TIMESTAMP, \n",
    "                    Score INT, \n",
    "                    ViewCount INT, \n",
    "                    Body VARCHAR(3000), \n",
    "                    OwnerUserId INT, \n",
    "                    LastEditorUserId INT, \n",
    "                    LastEditDate TIMESTAMP, \n",
    "                    LastActivityDate TIMESTAMP, \n",
    "                    Title VARCHAR(256), \n",
    "                    Tags VARCHAR(500), \n",
    "                    AnswerCount INT,\n",
    "                    CommentCount INT);"
   ]
  },
  {
   "cell_type": "code",
   "execution_count": null,
   "metadata": {
    "collapsed": true
   },
   "outputs": [],
   "source": [
    "LOAD XML LOCAL INFILE './Posts.xml' INTO TABLE posts(Id, \n",
    "                                                     PostTypeId, \n",
    "                                                     AcceptedAnswerId, \n",
    "                                                     CreationDate, \n",
    "                                                     Score, \n",
    "                                                     ViewCount, \n",
    "                                                     Body, \n",
    "                                                     OwnerUserId, \n",
    "                                                     LastEditorUserId, \n",
    "                                                     LastEditDate, \n",
    "                                                     LastActivityDate, \n",
    "                                                     Title, \n",
    "                                                     Tags, \n",
    "                                                     AnswerCount, \n",
    "                                                     CommentCount)"
   ]
  },
  {
   "cell_type": "code",
   "execution_count": null,
   "metadata": {
    "collapsed": true
   },
   "outputs": [],
   "source": [
    "# Users.xml => users table\n",
    "<row Id=\"7\" \n",
    "Reputation=\"101\" \n",
    "CreationDate=\"2014-05-13T23:17:05.443\" \n",
    "DisplayName=\"Undo\" \n",
    "LastAccessDate=\"2016-11-17T16:12:34.487\" \n",
    "WebsiteUrl=\"http://keybase.io/undo\" \n",
    "AboutMe=\"&#xA;&#xA;&lt;p&gt;Moderator on &lt;a href=&quot;//stackoverflow.com&quot;&gt;Stack Overflow&lt;/a&gt;, &lt;a href=&quot;//softwarerecs.stackexchange.com/&quot;&gt;Software Recommendations&lt;/a&gt; and &lt;a href=&quot;//hardwarerecs.stackexchange.com/&quot;&gt;Hardware Recommendations&lt;/a&gt;.&lt;/p&gt;&#xA;&#xA;&lt;p&gt;&lt;a href=&quot;http://stackexchange.com/users/1703573&quot;&gt;&#xA;&lt;img src=&quot;http://stackexchange.com/users/flair/1703573.png&quot; width=&quot;208&quot; height=&quot;58&quot; alt=&quot;profile for Undo on Stack Exchange, a network of free, community-driven Q&amp;amp;A sites&quot; title=&quot;profile for Undo on Stack Exchange, a network of free, community-driven Q&amp;amp;A sites&quot;&gt;&#xA;&lt;/a&gt;&lt;/p&gt;&#xA;\" \n",
    "Views=\"3\" \n",
    "UpVotes=\"1\" \n",
    "DownVotes=\"1\" \n",
    "AccountId=\"1703573\" />\n"
   ]
  }
 ],
 "metadata": {
  "kernelspec": {
   "display_name": "Python 3",
   "language": "python",
   "name": "python3"
  },
  "language_info": {
   "codemirror_mode": {
    "name": "ipython",
    "version": 3
   },
   "file_extension": ".py",
   "mimetype": "text/x-python",
   "name": "python",
   "nbconvert_exporter": "python",
   "pygments_lexer": "ipython3",
   "version": "3.5.2"
  }
 },
 "nbformat": 4,
 "nbformat_minor": 2
}
