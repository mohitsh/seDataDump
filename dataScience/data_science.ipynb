{
 "cells": [
  {
   "cell_type": "code",
   "execution_count": 20,
   "metadata": {
    "collapsed": true
   },
   "outputs": [],
   "source": [
    "import pandas as pd\n",
    "import numpy as np\n",
    "import pymysql as mysql\n",
    "import matplotlib.pyplot as plt\n",
    "import seaborn as sea\n",
    "import cred\n",
    "pd.options.display.max_colwidth = 1000\n",
    "%matplotlib inline"
   ]
  },
  {
   "cell_type": "code",
   "execution_count": 21,
   "metadata": {
    "collapsed": false
   },
   "outputs": [
    {
     "name": "stdout",
     "output_type": "stream",
     "text": [
      "root\n"
     ]
    }
   ],
   "source": [
    "print(cred.user_name)"
   ]
  },
  {
   "cell_type": "code",
   "execution_count": 2,
   "metadata": {
    "collapsed": true
   },
   "outputs": [],
   "source": [
    "host = cred.host_name\n",
    "user = cred.user_name\n",
    "passwd = cred.passwd\n",
    "db = cr"
   ]
  },
  {
   "cell_type": "code",
   "execution_count": 3,
   "metadata": {
    "collapsed": true
   },
   "outputs": [],
   "source": [
    "conn = mysql.connect(host=host, user=user, passwd=passwd, db=db)\n",
    "cur = conn.cursor()"
   ]
  },
  {
   "cell_type": "code",
   "execution_count": 4,
   "metadata": {
    "collapsed": false
   },
   "outputs": [
    {
     "data": {
      "text/plain": [
       "(('badges',), ('posts',), ('tags',), ('users',))"
      ]
     },
     "execution_count": 4,
     "metadata": {},
     "output_type": "execute_result"
    }
   ],
   "source": [
    "# tables stored in database data_science\n",
    "cur.execute(\"SHOW TABLES\")\n",
    "cur.fetchall()"
   ]
  },
  {
   "cell_type": "code",
   "execution_count": null,
   "metadata": {
    "collapsed": false
   },
   "outputs": [],
   "source": []
  },
  {
   "cell_type": "code",
   "execution_count": 8,
   "metadata": {
    "collapsed": true
   },
   "outputs": [],
   "source": [
    "tags_query = \"SELECT * FROM tags\""
   ]
  },
  {
   "cell_type": "code",
   "execution_count": 9,
   "metadata": {
    "collapsed": true
   },
   "outputs": [],
   "source": [
    "tags = pd.read_sql(tags_query, conn)"
   ]
  },
  {
   "cell_type": "code",
   "execution_count": 11,
   "metadata": {
    "collapsed": false
   },
   "outputs": [
    {
     "data": {
      "text/html": [
       "<div>\n",
       "<table border=\"1\" class=\"dataframe\">\n",
       "  <thead>\n",
       "    <tr style=\"text-align: right;\">\n",
       "      <th></th>\n",
       "      <th>Id</th>\n",
       "      <th>TagName</th>\n",
       "      <th>Count</th>\n",
       "      <th>ExcerptPostId</th>\n",
       "      <th>WikiPostId</th>\n",
       "    </tr>\n",
       "  </thead>\n",
       "  <tbody>\n",
       "    <tr>\n",
       "      <th>295</th>\n",
       "      <td>458</td>\n",
       "      <td>caffe</td>\n",
       "      <td>1</td>\n",
       "      <td>NaN</td>\n",
       "      <td>NaN</td>\n",
       "    </tr>\n",
       "    <tr>\n",
       "      <th>296</th>\n",
       "      <td>459</td>\n",
       "      <td>redshift</td>\n",
       "      <td>1</td>\n",
       "      <td>NaN</td>\n",
       "      <td>NaN</td>\n",
       "    </tr>\n",
       "    <tr>\n",
       "      <th>297</th>\n",
       "      <td>460</td>\n",
       "      <td>null</td>\n",
       "      <td>1</td>\n",
       "      <td>NaN</td>\n",
       "      <td>NaN</td>\n",
       "    </tr>\n",
       "    <tr>\n",
       "      <th>298</th>\n",
       "      <td>461</td>\n",
       "      <td>text-filter</td>\n",
       "      <td>1</td>\n",
       "      <td>NaN</td>\n",
       "      <td>NaN</td>\n",
       "    </tr>\n",
       "    <tr>\n",
       "      <th>299</th>\n",
       "      <td>462</td>\n",
       "      <td>software-stack</td>\n",
       "      <td>1</td>\n",
       "      <td>NaN</td>\n",
       "      <td>NaN</td>\n",
       "    </tr>\n",
       "  </tbody>\n",
       "</table>\n",
       "</div>"
      ],
      "text/plain": [
       "      Id         TagName  Count  ExcerptPostId  WikiPostId\n",
       "295  458           caffe      1            NaN         NaN\n",
       "296  459        redshift      1            NaN         NaN\n",
       "297  460            null      1            NaN         NaN\n",
       "298  461     text-filter      1            NaN         NaN\n",
       "299  462  software-stack      1            NaN         NaN"
      ]
     },
     "execution_count": 11,
     "metadata": {},
     "output_type": "execute_result"
    }
   ],
   "source": [
    "tags.tail(5)"
   ]
  },
  {
   "cell_type": "code",
   "execution_count": 24,
   "metadata": {
    "collapsed": false
   },
   "outputs": [],
   "source": [
    "tags_sorted = tags[['TagName', 'Count']].sort_values(by=\"Count\", ascending=False)"
   ]
  },
  {
   "cell_type": "code",
   "execution_count": 25,
   "metadata": {
    "collapsed": false
   },
   "outputs": [
    {
     "data": {
      "text/plain": [
       "(300, 2)"
      ]
     },
     "execution_count": 25,
     "metadata": {},
     "output_type": "execute_result"
    }
   ],
   "source": [
    "tags_sorted.shape"
   ]
  },
  {
   "cell_type": "code",
   "execution_count": 26,
   "metadata": {
    "collapsed": true
   },
   "outputs": [],
   "source": [
    "top_10 = tags_sorted.head(10)"
   ]
  },
  {
   "cell_type": "code",
   "execution_count": 27,
   "metadata": {
    "collapsed": false
   },
   "outputs": [
    {
     "data": {
      "text/html": [
       "<div>\n",
       "<table border=\"1\" class=\"dataframe\">\n",
       "  <thead>\n",
       "    <tr style=\"text-align: right;\">\n",
       "      <th></th>\n",
       "      <th>TagName</th>\n",
       "      <th>Count</th>\n",
       "    </tr>\n",
       "  </thead>\n",
       "  <tbody>\n",
       "    <tr>\n",
       "      <th>1</th>\n",
       "      <td>machine-learning</td>\n",
       "      <td>1331</td>\n",
       "    </tr>\n",
       "    <tr>\n",
       "      <th>32</th>\n",
       "      <td>python</td>\n",
       "      <td>537</td>\n",
       "    </tr>\n",
       "    <tr>\n",
       "      <th>18</th>\n",
       "      <td>r</td>\n",
       "      <td>460</td>\n",
       "    </tr>\n",
       "    <tr>\n",
       "      <th>53</th>\n",
       "      <td>classification</td>\n",
       "      <td>435</td>\n",
       "    </tr>\n",
       "    <tr>\n",
       "      <th>56</th>\n",
       "      <td>neuralnetwork</td>\n",
       "      <td>425</td>\n",
       "    </tr>\n",
       "    <tr>\n",
       "      <th>3</th>\n",
       "      <td>data-mining</td>\n",
       "      <td>396</td>\n",
       "    </tr>\n",
       "    <tr>\n",
       "      <th>11</th>\n",
       "      <td>clustering</td>\n",
       "      <td>269</td>\n",
       "    </tr>\n",
       "    <tr>\n",
       "      <th>101</th>\n",
       "      <td>predictive-modeling</td>\n",
       "      <td>253</td>\n",
       "    </tr>\n",
       "    <tr>\n",
       "      <th>42</th>\n",
       "      <td>dataset</td>\n",
       "      <td>226</td>\n",
       "    </tr>\n",
       "    <tr>\n",
       "      <th>2</th>\n",
       "      <td>bigdata</td>\n",
       "      <td>224</td>\n",
       "    </tr>\n",
       "  </tbody>\n",
       "</table>\n",
       "</div>"
      ],
      "text/plain": [
       "                 TagName  Count\n",
       "1       machine-learning   1331\n",
       "32                python    537\n",
       "18                     r    460\n",
       "53        classification    435\n",
       "56         neuralnetwork    425\n",
       "3            data-mining    396\n",
       "11            clustering    269\n",
       "101  predictive-modeling    253\n",
       "42               dataset    226\n",
       "2                bigdata    224"
      ]
     },
     "execution_count": 27,
     "metadata": {},
     "output_type": "execute_result"
    }
   ],
   "source": [
    "top_10"
   ]
  },
  {
   "cell_type": "markdown",
   "metadata": {
    "collapsed": false
   },
   "source": [
    "sea.set(color_codes=True)\n",
    "sea.set_style('ticks')\n",
    "sea.stripplot(x='TagName', y='Count', data=top_10, jitter=True, alpha=0.75, size=10)\n",
    "sea.despine(offset=20, trim=True)\n",
    "plt.xticks(rotation=90)"
   ]
  },
  {
   "cell_type": "code",
   "execution_count": 28,
   "metadata": {
    "collapsed": false
   },
   "outputs": [
    {
     "data": {
      "text/plain": [
       "(array([0, 1, 2, 3, 4, 5, 6, 7, 8, 9]), <a list of 10 Text xticklabel objects>)"
      ]
     },
     "execution_count": 28,
     "metadata": {},
     "output_type": "execute_result"
    },
    {
     "data": {
      "image/png": "[encoded data removed]",
      "text/plain": [
       "<matplotlib.figure.Figure at 0x7f4b21e2d860>"
      ]
     },
     "metadata": {},
     "output_type": "display_data"
    }
   ],
   "source": [
    "sea.set(color_codes=True)\n",
    "sea.set_style('ticks')\n",
    "sea.stripplot(x='TagName', y='Count', data=top_10, jitter=True, alpha=0.75, size=10)\n",
    "sea.despine(offset=20, trim=True)\n",
    "plt.xticks(rotation=90)"
   ]
  },
  {
   "cell_type": "code",
   "execution_count": 119,
   "metadata": {
    "collapsed": false
   },
   "outputs": [],
   "source": [
    "posts_query = \"SELECT Id, Body,OwnerUserId, PostTypeId, Score,\\\n",
    "ViewCount, Title,Tags, AnswerCount, CommentCount FROM posts\"\n",
    "posts = pd.read_sql(posts_query, con=conn)"
   ]
  },
  {
   "cell_type": "code",
   "execution_count": 120,
   "metadata": {
    "collapsed": false
   },
   "outputs": [
    {
     "data": {
      "text/plain": [
       "Index(['Id', 'Body', 'OwnerUserId', 'PostTypeId', 'Score', 'ViewCount',\n",
       "       'Title', 'Tags', 'AnswerCount', 'CommentCount'],\n",
       "      dtype='object')"
      ]
     },
     "execution_count": 120,
     "metadata": {},
     "output_type": "execute_result"
    }
   ],
   "source": [
    "#posts_query = \"SELECT * FROM posts\"\n",
    "#posts = pd.read_sql(posts_query, con=conn)\n",
    "#posts.head(5)\n",
    "posts.columns"
   ]
  },
  {
   "cell_type": "code",
   "execution_count": 121,
   "metadata": {
    "collapsed": false
   },
   "outputs": [],
   "source": [
    "posts_sorted_score = posts.sort_values(by='Score', ascending=False)\n",
    "posts_sorted_viewcount = posts.sort_values(by='ViewCount', ascending=False)\n",
    "posts_sorted_answercount = posts.sort_values(by='AnswerCount', ascending=False)\n",
    "posts_sorted_commentcount = posts.sort_values(by='CommentCount', ascending=False)"
   ]
  },
  {
   "cell_type": "code",
   "execution_count": null,
   "metadata": {
    "collapsed": true
   },
   "outputs": [],
   "source": []
  },
  {
   "cell_type": "code",
   "execution_count": 122,
   "metadata": {
    "collapsed": false
   },
   "outputs": [
    {
     "name": "stdout",
     "output_type": "stream",
     "text": [
      "Id:  19\n",
      "Title:  How big is big data?\n",
      "Tag:  <bigdata><scalability><efficiency><performance>\n",
      "Score:  53\n",
      "AnswerCount: 12.0\n",
      "Body:  <p>Lots of people use the term <em>big data</em> in a rather <em>commercial</em> way, as a means of indicating that large datasets are involved in the computation, and therefore potential solutions must have good performance. Of course, <em>big data</em> always carry associated terms, like scalability and efficiency, but what exactly defines a problem as a <em>big data</em> problem?</p>&#xA;&#xA;<p>Does the computation have to be related to some set of specific purposes, like data mining/information retrieval, or could an algorithm for general graph problems be labeled <em>big data</em> if the dataset was <em>big enough</em>? Also, how <em>big</em> is <em>big enough</em> (if this is possible to define)?</p>&#xA;\n"
     ]
    }
   ],
   "source": [
    "i = 4\n",
    "print('Id: ', posts_sorted_score.iloc[i].Id)\n",
    "print('Title: ', posts_sorted_score.iloc[i].Title)\n",
    "print('Tag: ', posts_sorted_score.iloc[i].Tags)\n",
    "print('Score: ', posts_sorted_score.iloc[i].Score)\n",
    "print('AnswerCount:', posts_sorted_score.iloc[i].AnswerCount)\n",
    "print('Body: ', posts_sorted_score.iloc[i].Body)"
   ]
  },
  {
   "cell_type": "code",
   "execution_count": 123,
   "metadata": {
    "collapsed": false
   },
   "outputs": [
    {
     "name": "stdout",
     "output_type": "stream",
     "text": [
      "Id:  5357\n",
      "Title:  Data Science in C (or C++)\n",
      "Tag:  <machine-learning><bigdata><statistics><programming><c>\n",
      "Score:  22\n",
      "AnswerCount: 11.0\n",
      "Body:  <p>I'm an <code>R</code> language programmer. I'm also in the group of people who are considered Data Scientists but who come from academic disciplines other than CS.</p>&#xA;&#xA;<p>This works out well in my role as a Data Scientist, however, by starting my career in <code>R</code> and only having basic knowledge of other scripting/web languages, I've felt somewhat inadequate in 2 key areas:</p>&#xA;&#xA;<ol>&#xA;<li>Lack of a solid knowledge of programming theory.</li>&#xA;<li>Lack of a competitive level of skill in faster and more widely used languages like <code>C</code>, <code>C++</code> and <code>Java</code>, which could be utilized to increase the speed of the pipeline and Big Data computations as well as to create DS/data products which can be more readily developed into fast back-end scripts or standalone applications.</li>&#xA;</ol>&#xA;&#xA;<p>The solution is simple of course -- go learn about programming, which is what I've been doing by enrolling in some classes (currently C programming). </p>&#xA;&#xA;<p>However, now that I'm starting to address problems #1 and #2 above, I'm left asking myself \"<em>Just how viable are languages like <code>C</code> and <code>C++</code> for Data Science?</em>\".</p>&#xA;&#xA;<p>For instance, I can move data around very quickly and interact with users just fine, but what about advanced regression, Machine Learning, text mining and other more advanced statistical operations? </p>&#xA;&#xA;<p><strong>So. can <code>C</code> do the job -- what tools are available for advanced statistics, ML, AI, and other areas of Data Science?</strong> Or must I loose most of the efficiency gained by programming in <code>C</code> by calling on <code>R</code> scripts or other languages?</p>&#xA;&#xA;<p>The best resource I've found thus far in C is a library called <a href=\"http://image.diku.dk/shark/sphinx_pages/build/html/index.html\" rel=\"nofollow noreferrer\">Shark</a>, which gives <code>C</code>/<code>C++</code> the ability to use Support Vector Machines, linear regression (not non-linear and other advanced regression like multinomial probit, etc) and a shortlist of other (great but) statistical functions.</p>&#xA;\n"
     ]
    }
   ],
   "source": [
    "i = 4\n",
    "print('Id: ', posts_sorted_answercount.iloc[i].Id)\n",
    "print('Title: ', posts_sorted_answercount.iloc[i].Title)\n",
    "print('Tag: ', posts_sorted_answercount.iloc[i].Tags)\n",
    "print('Score: ', posts_sorted_answercount.iloc[i].Score)\n",
    "print('AnswerCount:', posts_sorted_answercount.iloc[i].AnswerCount)\n",
    "print('Body: ', posts_sorted_answercount.iloc[i].Body)"
   ]
  },
  {
   "cell_type": "code",
   "execution_count": 124,
   "metadata": {
    "collapsed": false
   },
   "outputs": [
    {
     "name": "stdout",
     "output_type": "stream",
     "text": [
      "Id:  5345\n",
      "Title:  IDE alternatives for R programming (RStudio, IntelliJ IDEA, Eclipse, Visual Studio)\n",
      "Tag:  <r><tools><rstudio><programming>\n",
      "Score:  11\n",
      "AnswerCount: 7.0\n",
      "Body:  <p>I use RStudio for R programming. I remember about solid IDE-s from other technology stacks, like Visual Studio or Eclipse.</p>&#xA;&#xA;<p>I have two questions:</p>&#xA;&#xA;<ol>&#xA;<li>What other IDE-s than RStudio are used (please consider providing some brief description on them).</li>&#xA;<li>Does any of them have noticeable advantages over RStudio?</li>&#xA;</ol>&#xA;&#xA;<p>I mostly mean debug/build/deploy features, besides coding itself (so text editors are probably not a solution).</p>&#xA;\n"
     ]
    }
   ],
   "source": [
    "i = 7\n",
    "print('Id: ', posts_sorted_viewcount.iloc[i].Id)\n",
    "print('Title: ', posts_sorted_viewcount.iloc[i].Title)\n",
    "print('Tag: ', posts_sorted_viewcount.iloc[i].Tags)\n",
    "print('Score: ', posts_sorted_viewcount.iloc[i].Score)\n",
    "print('AnswerCount:', posts_sorted_viewcount.iloc[i].AnswerCount)\n",
    "print('Body: ', posts_sorted_viewcount.iloc[i].Body)"
   ]
  },
  {
   "cell_type": "code",
   "execution_count": 125,
   "metadata": {
    "collapsed": false
   },
   "outputs": [
    {
     "name": "stdout",
     "output_type": "stream",
     "text": [
      "Id:  12186\n",
      "Title:  Fitting lines through large point clouds\n",
      "Tag:  <machine-learning><clustering><regression>\n",
      "Score:  9\n",
      "AnswerCount: 2.0\n",
      "CommentCount: 19\n",
      "Body:  <p>I have a large set of points (order of 10k points) formed by particle tracks (movement in the xy plane in time filmed by a camera, so 3d - 256x256px and ca 3k frames in my example set) and noise. These particles travel on approximately straight lines roughly (but only roughly) in the same direction, and so for the analysis of their trajectories I am trying to fit lines through the points. I tried to use Sequential RANSAC, but can't find a criterion to reliably single out false positives, as well as T- and J-Linkage, which were too slow and also not reliable enough.</p>&#xA;&#xA;<p>Here is an image of a part of the dataset with good and bad fits I got with sequential Ransac: <a href=\"http://i.stack.imgur.com/8ua2o.png\" rel=\"nofollow\"><img src=\"http://i.stack.imgur.com/8ua2o.png\" alt=\"enter image description here\"></a>&#xA;I'm using the centroids of the particle blobs here, blob sizes vary between 1 and about 20 pixels.</p>&#xA;&#xA;<p>I found that subsamples using for example only every 10th frame worked quite well too, so the data size to be processed can be reduced this way.</p>&#xA;&#xA;<p>I read a blog post about all the things neural networks can accomplish, and would like to ask you if this would be a feasible application for one before I start reading (I come from a non-maths background, so I would have to do quite a bit of reading)?</p>&#xA;&#xA;<p>Or could you suggest a different method?</p>&#xA;&#xA;<p>Thanks!</p>&#xA;&#xA;<p>Addendum: Here is code for a Matlab function to generate a sample point cloud containing 30 parallel noisy lines, which I can't distinguish yet:</p>&#xA;&#xA;<pre><code>function coords = generateSampleData()&#xA;coords = [];&#xA;for i = 1:30&#xA;    randOffset = i*2;&#xA;    coords = vertcat(coords, makeLine([100+randOffset 100 100], [200+randOffset 200 200], 150, 0.2));&#xA;end&#xA;&#xA;figure&#xA;scatter3(coords(:,1),coords(:,2),coords(:,3),'.')&#xA;&#xA;function linepts = makeLine(startpt, endpt, numpts, noiseOffset)&#xA;    dirvec = endpt - startpt;&#xA;    linepts = bsxfun( @plus, startpt, rand(numpts,1)*dirvec); % random points on line&#xA;    linepts = linepts + noiseOffset*randn(numpts,3); % add random offsets to points&#xA;end&#xA;&#xA;end&#xA;</code></pre>&#xA;\n"
     ]
    }
   ],
   "source": [
    "i = 0\n",
    "print('Id: ', posts_sorted_commentcount.iloc[i].Id)\n",
    "print('Title: ', posts_sorted_commentcount.iloc[i].Title)\n",
    "print('Tag: ', posts_sorted_commentcount.iloc[i].Tags)\n",
    "print('Score: ', posts_sorted_commentcount.iloc[i].Score)\n",
    "print('AnswerCount:', posts_sorted_commentcount.iloc[i].AnswerCount)\n",
    "print('CommentCount:', posts_sorted_commentcount.iloc[i].CommentCount)\n",
    "print('Body: ', posts_sorted_commentcount.iloc[i].Body)"
   ]
  },
  {
   "cell_type": "code",
   "execution_count": 130,
   "metadata": {
    "collapsed": false
   },
   "outputs": [
    {
     "name": "stdout",
     "output_type": "stream",
     "text": [
      "Index(['Id', 'Body', 'OwnerUserId', 'PostTypeId', 'Score', 'ViewCount',\n",
      "       'Title', 'Tags', 'AnswerCount', 'CommentCount'],\n",
      "      dtype='object')\n",
      "Index(['Id', 'UserId', 'Date', 'Name', 'Class', 'TagBased'], dtype='object')\n"
     ]
    }
   ],
   "source": [
    "print(posts.columns)\n",
    "print(badges.columns)"
   ]
  },
  {
   "cell_type": "code",
   "execution_count": 133,
   "metadata": {
    "collapsed": false
   },
   "outputs": [
    {
     "name": "stdout",
     "output_type": "stream",
     "text": [
      "    Id                                               Body  OwnerUserId  \\\n",
      "24  37  <p>To me (coming from a relational database ba...          9.0   \n",
      "76  95  <p>Is it valid to <em>use</em> click frequency...          9.0   \n",
      "\n",
      "    PostTypeId  Score  ViewCount Title  Tags  AnswerCount  CommentCount  \n",
      "24           2     63        NaN  None  None          NaN             4  \n",
      "76           2      4        NaN  None  None          NaN             0  \n"
     ]
    }
   ],
   "source": [
    "print(posts.loc[posts['OwnerUserId'] == 9])"
   ]
  },
  {
   "cell_type": "code",
   "execution_count": 127,
   "metadata": {
    "collapsed": false
   },
   "outputs": [],
   "source": [
    "#common = pd.merge(top_10_comments, top_10_score, how='inner')"
   ]
  },
  {
   "cell_type": "code",
   "execution_count": 128,
   "metadata": {
    "collapsed": false
   },
   "outputs": [],
   "source": [
    "badges_query = \"SELECT * FROM badges\"\n",
    "badges = pd.read_sql(badges_query, con=conn)"
   ]
  },
  {
   "cell_type": "code",
   "execution_count": 104,
   "metadata": {
    "collapsed": false
   },
   "outputs": [
    {
     "name": "stdout",
     "output_type": "stream",
     "text": [
      "(20092, 6)\n",
      "   Id  UserId                Date            Name  Class  TagBased\n",
      "0   1       1 2014-05-13 23:06:45        Informed      3         0\n",
      "1   2       2 2014-05-13 23:11:04  Autobiographer      3         0\n",
      "2   3       4 2014-05-13 23:20:54  Autobiographer      3         0\n",
      "3   4       5 2014-05-13 23:20:54  Autobiographer      3         0\n",
      "4   5       8 2014-05-13 23:20:54  Autobiographer      3         0\n"
     ]
    }
   ],
   "source": [
    "print(badges.shape)\n",
    "print(badges.head(5))"
   ]
  },
  {
   "cell_type": "code",
   "execution_count": 106,
   "metadata": {
    "collapsed": false
   },
   "outputs": [
    {
     "name": "stdout",
     "output_type": "stream",
     "text": [
      "Index(['Id', 'Body', 'Score', 'ViewCount', 'Title', 'Tags', 'AnswerCount',\n",
      "       'CommentCount'],\n",
      "      dtype='object')\n",
      "Index(['Id', 'UserId', 'Date', 'Name', 'Class', 'TagBased'], dtype='object')\n"
     ]
    }
   ],
   "source": [
    "print(posts.columns)\n",
    "print(badges.columns)"
   ]
  },
  {
   "cell_type": "code",
   "execution_count": null,
   "metadata": {
    "collapsed": false
   },
   "outputs": [],
   "source": []
  },
  {
   "cell_type": "code",
   "execution_count": null,
   "metadata": {
    "collapsed": false
   },
   "outputs": [],
   "source": []
  },
  {
   "cell_type": "code",
   "execution_count": null,
   "metadata": {
    "collapsed": false
   },
   "outputs": [],
   "source": []
  },
  {
   "cell_type": "code",
   "execution_count": null,
   "metadata": {
    "collapsed": false
   },
   "outputs": [],
   "source": []
  },
  {
   "cell_type": "code",
   "execution_count": null,
   "metadata": {
    "collapsed": false
   },
   "outputs": [],
   "source": []
  },
  {
   "cell_type": "code",
   "execution_count": 142,
   "metadata": {
    "collapsed": false
   },
   "outputs": [],
   "source": [
    "users_query = \"SELECT Id, DisplayName, Reputation,CreationDate, Location, AboutMe, Views, UpVotes, DownVotes, AccountId FROM users\"\n",
    "users = pd.read_sql(users_query, con=conn)"
   ]
  },
  {
   "cell_type": "code",
   "execution_count": 143,
   "metadata": {
    "collapsed": false
   },
   "outputs": [
    {
     "name": "stdout",
     "output_type": "stream",
     "text": [
      "(19237, 10)\n"
     ]
    }
   ],
   "source": [
    "print(users.shape)\n",
    "users_sorted_views = users.sort_values(by='Views', ascending=False)\n",
    "users_sorted_upvotes = users.sort_values(by='UpVotes', ascending=False)\n",
    "users_sorted_downvotes = users.sort_values(by='DownVotes', ascending=False)\n",
    "users_sorted_reputation = users.sort_values(by='Reputation', ascending=False)"
   ]
  },
  {
   "cell_type": "code",
   "execution_count": 174,
   "metadata": {
    "collapsed": false
   },
   "outputs": [
    {
     "name": "stdout",
     "output_type": "stream",
     "text": [
      "['Informed' 'Autobiographer' 'Student' 'Supporter' 'Editor' 'Teacher'\n",
      " 'Citizen Patrol' 'Precognitive' 'Quorum' 'Talkative' 'Critic' 'Custodian'\n",
      " 'Scholar' 'Nice Answer' 'Nice Question' 'Organizer' 'Peer Pressure'\n",
      " 'Suffrage' 'Mortarboard' 'Cleanup' 'Disciplined' 'Enlightened'\n",
      " 'Commentator' 'Tag Editor' 'Vox Populi' 'Promoter' 'Tumbleweed' 'Beta'\n",
      " 'Popular Question' 'Self-Learner' 'Enthusiast' 'Good Answer' 'Curious'\n",
      " 'Taxonomist' 'Convention' 'Announcer' 'Favorite Question' 'Good Question'\n",
      " 'Revival' 'Notable Question' 'Benefactor' 'Explainer' 'Civic Duty'\n",
      " 'Reviewer' 'Necromancer' 'Excavator' 'Tenacious' 'Fanatic' 'Yearling'\n",
      " 'Proofreader' 'Guru' 'Constable' 'Synonymizer' 'Famous Question'\n",
      " 'machine-learning' 'Steward' 'Booster' 'Strunk & White' 'Publicist'\n",
      " 'Electorate' 'Deputy' 'Investor' 'Stellar Question' 'Inquisitive'\n",
      " 'clustering' 'neuralnetwork' 'Altruist']\n",
      "67\n"
     ]
    }
   ],
   "source": [
    "print(badges.Name.unique())\n",
    "print(len(badges.Name.unique()))"
   ]
  },
  {
   "cell_type": "code",
   "execution_count": 298,
   "metadata": {
    "collapsed": false
   },
   "outputs": [
    {
     "name": "stdout",
     "output_type": "stream",
     "text": [
      "Tehran, Iran    1\n",
      "Name: Location, dtype: int64\n",
      "    Id_x  UserId                Date              Name  Class  TagBased  Id_y  \\\n",
      "0  20868     227 2016-07-10 04:52:21  Stellar Question      1         0   227   \n",
      "\n",
      "       DisplayName  Reputation        CreationDate      Location  \\\n",
      "0  Amir Ali Akbari         740 2014-05-18 11:29:56  Tehran, Iran   \n",
      "\n",
      "                                                                                       AboutMe  \\\n",
      "0  <p>A graduate student of Sharif University of Technology, working in Arsh company.</p>&#xA;   \n",
      "\n",
      "   Views  UpVotes  DownVotes  AccountId  \n",
      "0     15      163          2   210958.0  \n"
     ]
    }
   ],
   "source": [
    "# used => \n",
    "# (Scholar,3) (Citizen Patrol, 3) (Critic, 3), (Organizer, 2) (Nice Question, )\n",
    "# (Nice Answer, 2) (Enlightened, 2) (Commentator, 2) (Enthusiast, 2) (Popular Question, 3)\n",
    "# (Announcer, 3), (Revival, 3) (Notable Question, 3), (Yearling, 3) (Stellar Question, 1)\n",
    "badges_sub = badges.loc[badges['Name'] == 'Stellar Question']\n",
    "complete_info = pd.merge(badges_sub, users, left_on= 'UserId', right_on='Id')\n",
    "location = complete_info.Location.value_counts()\n",
    "location = location[location>=1]\n",
    "print(location)\n",
    "print(complete_info)"
   ]
  },
  {
   "cell_type": "markdown",
   "metadata": {
    "collapsed": true
   },
   "source": [
    "users.columns"
   ]
  },
  {
   "cell_type": "code",
   "execution_count": 303,
   "metadata": {
    "collapsed": false
   },
   "outputs": [
    {
     "name": "stdout",
     "output_type": "stream",
     "text": [
      "True\n",
      "True\n"
     ]
    }
   ],
   "source": [
    "j = 227\n",
    "print(j in posts.OwnerUserId)\n",
    "print(j in posts.Id)"
   ]
  },
  {
   "cell_type": "code",
   "execution_count": 277,
   "metadata": {
    "collapsed": false
   },
   "outputs": [
    {
     "data": {
      "text/plain": [
       "Index(['Id', 'Body', 'OwnerUserId', 'PostTypeId', 'Score', 'ViewCount',\n",
       "       'Title', 'Tags', 'AnswerCount', 'CommentCount'],\n",
       "      dtype='object')"
      ]
     },
     "execution_count": 277,
     "metadata": {},
     "output_type": "execute_result"
    }
   ],
   "source": [
    "posts.columns"
   ]
  },
  {
   "cell_type": "code",
   "execution_count": 310,
   "metadata": {
    "collapsed": false
   },
   "outputs": [
    {
     "name": "stdout",
     "output_type": "stream",
     "text": [
      "      Id  \\\n",
      "108  134   \n",
      "109  135   \n",
      "110  136   \n",
      "111  137   \n",
      "128  155   \n",
      "196  223   \n",
      "358  407   \n",
      "\n",
      "                                                                                                                                                                                                        Body  \\\n",
      "108  <p>In our company, we have a MongoDB database containing a lot of unstructured data, on which we need to run map-reduce algorithms to generate reports and other analyses. We have two approaches to...   \n",
      "109  <p>Considering another criteria, I think that in some cases using Python may be much superior to R for Big Data. I know the wide-spread use of R in data science educational materials and the good ...   \n",
      "110  <p>MapReduce is a framework for processing parallelizable problems across huge datasets using a large number of computers (nodes), collectively referred to as a cluster (if all nodes are on the sa...   \n",
      "111                                                                                     MapReduce is a programming model for processing large data sets with a parallel, distributed algorithm on a cluster.   \n",
      "128  <p>One of the common problems in data science is gathering data from various sources in a somehow cleaned (semi-structured) format and combining metrics from various sources for making a higher le...   \n",
      "196  <p>Having a lot of text documents (in natural language, unstructured), what are the possible ways of annotating them with some semantic meta-data? For example, consider a short document:</p>&#xA;&...   \n",
      "358  <p>Other answers recommended a good set of books about the mathematics behind data science. But as you mentioned, its not just mathematics and activities like data collection and inference from da...   \n",
      "\n",
      "     OwnerUserId  PostTypeId  Score  ViewCount  \\\n",
      "108        227.0           1     10      487.0   \n",
      "109        227.0           2      8        NaN   \n",
      "110        227.0           5      0        NaN   \n",
      "111        227.0           4      0        NaN   \n",
      "128        227.0           1     89     9914.0   \n",
      "196        227.0           1     10      549.0   \n",
      "358        227.0           2      6        NaN   \n",
      "\n",
      "                                                                        Title  \\\n",
      "108  Can map-reduce algorithms written for MongoDB be ported to Hadoop later?   \n",
      "109                                                                      None   \n",
      "110                                                                      None   \n",
      "111                                                                      None   \n",
      "128                                               Publicly Available Datasets   \n",
      "196                            How to annotate text documents with meta-data?   \n",
      "358                                                                      None   \n",
      "\n",
      "                                                  Tags  AnswerCount  \\\n",
      "108  <scalability><apache-hadoop><map-reduce><mongodb>          3.0   \n",
      "109                                               None          NaN   \n",
      "110                                               None          NaN   \n",
      "111                                               None          NaN   \n",
      "128                             <open-source><dataset>         27.0   \n",
      "196        <nlp><metadata><data-cleaning><text-mining>          3.0   \n",
      "358                                               None          NaN   \n",
      "\n",
      "     CommentCount  \n",
      "108             1  \n",
      "109             5  \n",
      "110             0  \n",
      "111             0  \n",
      "128             7  \n",
      "196             5  \n",
      "358             0  \n"
     ]
    }
   ],
   "source": [
    "print(posts.loc[posts['OwnerUserId']==j])"
   ]
  },
  {
   "cell_type": "code",
   "execution_count": null,
   "metadata": {
    "collapsed": true
   },
   "outputs": [],
   "source": []
  }
 ],
 "metadata": {
  "anaconda-cloud": {},
  "kernelspec": {
   "display_name": "Python 3",
   "language": "python",
   "name": "python3"
  },
  "language_info": {
   "codemirror_mode": {
    "name": "ipython",
    "version": 3
   },
   "file_extension": ".py",
   "mimetype": "text/x-python",
   "name": "python",
   "nbconvert_exporter": "python",
   "pygments_lexer": "ipython3",
   "version": "3.5.2"
  }
 },
 "nbformat": 4,
 "nbformat_minor": 1
}
